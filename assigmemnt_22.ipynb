{
 "cells": [
  {
   "cell_type": "code",
   "execution_count": 1,
   "id": "7b380546-4022-4686-99c8-a9e5bff8c6b9",
   "metadata": {},
   "outputs": [
    {
     "ename": "SyntaxError",
     "evalue": "unterminated string literal (detected at line 6) (2797920483.py, line 6)",
     "output_type": "error",
     "traceback": [
      "\u001b[0;36m  Cell \u001b[0;32mIn [1], line 6\u001b[0;36m\u001b[0m\n\u001b[0;31m    Ans: The Result of this code is iNeuron, it's because the function intially looks for the variable X in its\u001b[0m\n\u001b[0m                                               ^\u001b[0m\n\u001b[0;31mSyntaxError\u001b[0m\u001b[0;31m:\u001b[0m unterminated string literal (detected at line 6)\n"
     ]
    }
   ],
   "source": [
    "1. What is the result of the code, and explain?\n",
    ">>> X = 'iNeuron'\n",
    ">>> def func():\n",
    "print(X)\n",
    ">>> func()\n",
    "Ans: The Result of this code is iNeuron, it's because the function intially looks for the variable X in its \n",
    "local scope,But since there is no local variable X, its returns the value of global variable x ie iNeuron"
   ]
  },
  {
   "cell_type": "code",
   "execution_count": 2,
   "id": "65924c46-a7d8-48aa-9e0e-4f6377943f41",
   "metadata": {},
   "outputs": [],
   "source": [
    "X = 'iNeuron'\n",
    "def func():\n",
    "    print(X)"
   ]
  },
  {
   "cell_type": "code",
   "execution_count": 3,
   "id": "a8901aba-149b-498e-aa87-e8dff3cbd3ce",
   "metadata": {},
   "outputs": [
    {
     "name": "stdout",
     "output_type": "stream",
     "text": [
      "iNeuron\n"
     ]
    }
   ],
   "source": [
    "func()"
   ]
  },
  {
   "cell_type": "code",
   "execution_count": null,
   "id": "9a46c035-59ae-4891-afa7-4bcb75b8b60d",
   "metadata": {},
   "outputs": [],
   "source": [
    "2. What is the result of the code, and explain?\n",
    ">>> X = 'iNeuron'\n",
    ">>> def func():\n",
    "X = 'NI!'\n",
    ">>> func()\n",
    ">>> print(X)\n",
    "Ans: The Result of this cide is NI!, because the function initially looks for the variable X in its local scope \n",
    "if X is not available then it checks for variable X in the global scope, Since here the X is present in the local scope. it prints the value NI!"
   ]
  },
  {
   "cell_type": "code",
   "execution_count": 9,
   "id": "4ff69984-230b-4a12-984a-c6efa502e5bf",
   "metadata": {},
   "outputs": [],
   "source": [
    "X='ineuron'\n",
    "def func():\n",
    "    X='NI'\n",
    "    print(X)"
   ]
  },
  {
   "cell_type": "code",
   "execution_count": 11,
   "id": "d2cb6170-24a7-457f-a13a-ea17bbbd08f8",
   "metadata": {},
   "outputs": [
    {
     "name": "stdout",
     "output_type": "stream",
     "text": [
      "NI\n"
     ]
    }
   ],
   "source": [
    "func()"
   ]
  },
  {
   "cell_type": "code",
   "execution_count": null,
   "id": "41ee91c2-b46c-40c3-8466-a59f6ed5de31",
   "metadata": {},
   "outputs": [],
   "source": [
    "3. What does this code print, and why?\n",
    ">>> X = 'iNeuron'\n",
    ">>> def func():\n",
    "X = 'NI'\n",
    "print(X)\n",
    ">>> func()\n",
    ">>> print(X)\n",
    "Ans: The output of the code is NI and iNeuron. X=NI is in the local scope of the function func() hence the function \n",
    "prints the x value as NI. X = 'iNeuron' is in the global scope. hence print(X) prints output as iNeuron"
   ]
  },
  {
   "cell_type": "code",
   "execution_count": 12,
   "id": "7b6ef846-20ca-4c25-9ec4-97302c8d099a",
   "metadata": {},
   "outputs": [],
   "source": [
    "X='ineuron'\n",
    "def func():\n",
    "    X='NI'\n",
    "    print(X)"
   ]
  },
  {
   "cell_type": "code",
   "execution_count": 13,
   "id": "bf583be0-1817-417b-a504-e238191c0d7e",
   "metadata": {},
   "outputs": [
    {
     "name": "stdout",
     "output_type": "stream",
     "text": [
      "NI\n",
      "ineuron\n"
     ]
    }
   ],
   "source": [
    "func()\n",
    "print(X)"
   ]
  },
  {
   "cell_type": "code",
   "execution_count": null,
   "id": "c2ef907f-ed37-4782-8fe1-64e80b414c83",
   "metadata": {},
   "outputs": [],
   "source": [
    "4. What output does this code produce? Why?\n",
    ">>> X = 'iNeuron'\n",
    ">>> def func():\n",
    "global X\n",
    "X = 'NI'\n",
    ">>> func()\n",
    ">>> print(X)\n",
    "Ans: The output of the code is NI. the global keyword allows a variable to be accessible in the current scope. \n",
    "since we are using global keyword inside the function func it directly access the variable in X in global scope. \n",
    "and changes its value to NI. hence the output of the code is NI"
   ]
  },
  {
   "cell_type": "code",
   "execution_count": 14,
   "id": "ced7282c-9d16-4272-8c22-2ce833ea8378",
   "metadata": {},
   "outputs": [
    {
     "name": "stdout",
     "output_type": "stream",
     "text": [
      "ineuron\n"
     ]
    }
   ],
   "source": [
    "X='ineuron'\n",
    "def func():\n",
    "    X='NI'\n",
    "func()\n",
    "print(X)"
   ]
  },
  {
   "cell_type": "code",
   "execution_count": null,
   "id": "6ab79c3b-bd7b-4a2c-907d-9bfce1678430",
   "metadata": {},
   "outputs": [],
   "source": [
    "5. What about this code—what’s the output, and why?\n",
    ">>> X = 'iNeuron'\n",
    ">>> def func():\n",
    "X = 'NI'\n",
    "def nested():\n",
    "print(X)\n",
    "nested()\n",
    ">>> func()\n",
    ">>> X\n",
    "Ans: The output of the code is NI. the reason for this output is if a function wants to access a variable, \n",
    "if its not available in its localscope. it looks for the variable in its global scope. similarly here also \n",
    "function nested looks for variable X in its global scope. hence the output of the code is NI"
   ]
  },
  {
   "cell_type": "code",
   "execution_count": 15,
   "id": "48dd640c-7f05-4726-9726-d830efc2db1a",
   "metadata": {},
   "outputs": [
    {
     "name": "stdout",
     "output_type": "stream",
     "text": [
      "NI\n"
     ]
    },
    {
     "data": {
      "text/plain": [
       "'iNeuron'"
      ]
     },
     "execution_count": 15,
     "metadata": {},
     "output_type": "execute_result"
    }
   ],
   "source": [
    "X = 'iNeuron'\n",
    "def func():\n",
    "    X = 'NI'\n",
    "    def nested():\n",
    "        print(X)\n",
    "    nested()\n",
    "func()\n",
    "X"
   ]
  },
  {
   "cell_type": "code",
   "execution_count": null,
   "id": "7bda854f-f0de-49a3-80b6-57e460652488",
   "metadata": {},
   "outputs": [],
   "source": [
    "6. How about this code: what is its output in Python 3, and explain?\n",
    ">>> def func():\n",
    "X = 'NI'\n",
    "def nested():\n",
    "nonlocal X\n",
    "X = 'Spam'\n",
    "nested()\n",
    "print(X)\n",
    ">>> func()\n",
    "Ans: The output of the code is Spam. nonlocal keyword in python is used to declare a variable as not local.\n",
    "Hence the statement X = \"Spam\" is modified in the global scope. hence the output of print(X) statement is Spam"
   ]
  },
  {
   "cell_type": "code",
   "execution_count": 16,
   "id": "e6723f10-4f1a-4526-80cf-5b85be1f49b1",
   "metadata": {},
   "outputs": [
    {
     "name": "stdout",
     "output_type": "stream",
     "text": [
      "Spam\n"
     ]
    }
   ],
   "source": [
    "def func():\n",
    "    X = 'NI'\n",
    "    def nested():\n",
    "        nonlocal X\n",
    "        X = 'Spam'\n",
    "    nested()\n",
    "    print(X)\n",
    "func()"
   ]
  },
  {
   "cell_type": "code",
   "execution_count": null,
   "id": "8eb3e0a4-88f4-45fd-923c-42f5b07a358f",
   "metadata": {},
   "outputs": [],
   "source": []
  }
 ],
 "metadata": {
  "kernelspec": {
   "display_name": "Python 3 (ipykernel)",
   "language": "python",
   "name": "python3"
  },
  "language_info": {
   "codemirror_mode": {
    "name": "ipython",
    "version": 3
   },
   "file_extension": ".py",
   "mimetype": "text/x-python",
   "name": "python",
   "nbconvert_exporter": "python",
   "pygments_lexer": "ipython3",
   "version": "3.10.6"
  }
 },
 "nbformat": 4,
 "nbformat_minor": 5
}
