{
 "cells": [
  {
   "cell_type": "code",
   "execution_count": null,
   "id": "45876d10-3a61-47de-b88f-42e257d53148",
   "metadata": {},
   "outputs": [],
   "source": [
    "1. What is the result of the code, and why?\n",
    ">>> def func(a, b=6, c=8):\n",
    "print(a, b, c)\n",
    ">>> func(1, 2)\n",
    "Ans: The result of the above code is 1 2 8. its because the function uses the default value of c ie 8 which is provided at the time of declaration"
   ]
  },
  {
   "cell_type": "code",
   "execution_count": 3,
   "id": "1bcd3698-d247-4ed5-b3c8-02e94be6f17f",
   "metadata": {},
   "outputs": [
    {
     "name": "stdout",
     "output_type": "stream",
     "text": [
      "1 2 8\n"
     ]
    }
   ],
   "source": [
    "def func(a, b=6, c=8):\n",
    "    print(a, b, c)\n",
    "func(1, 2)"
   ]
  },
  {
   "cell_type": "code",
   "execution_count": null,
   "id": "bb3e5613-66fe-4e00-96f8-30ea5b98c6b3",
   "metadata": {},
   "outputs": [],
   "source": [
    "2. What is the result of this code, and why?\n",
    ">>> def func(a, b, c=5):\n",
    "print(a, b, c)\n",
    ">>> func(1, c=3, b=2)\n",
    "Ans: The result of the above code is 1 2 3. it is because the function will use default values only when a value for \n",
    "a argument is not provided and if argument name is mentioned while doing a function call, the order of arguments is also \n",
    "ignored by the python interpreter"
   ]
  },
  {
   "cell_type": "code",
   "execution_count": 4,
   "id": "179825a4-d282-4483-ae97-a0929763055a",
   "metadata": {},
   "outputs": [],
   "source": [
    "def func(a,b,c=5):\n",
    "    print(a,b,c)"
   ]
  },
  {
   "cell_type": "code",
   "execution_count": 5,
   "id": "f9841910-df51-4860-bb35-8eeabdc0ef34",
   "metadata": {},
   "outputs": [
    {
     "name": "stdout",
     "output_type": "stream",
     "text": [
      "1 2 3\n"
     ]
    }
   ],
   "source": [
    "func(1, c=3, b=2)"
   ]
  },
  {
   "cell_type": "code",
   "execution_count": null,
   "id": "2a07c3bf-4efa-4fdd-9b85-b50ab58e6bc9",
   "metadata": {},
   "outputs": [],
   "source": [
    "3. How about this code: what is its result, and why?\n",
    ">>> def func(a, *pargs):\n",
    "print(a, pargs)\n",
    ">>> func(1, 2, 3)\n",
    "Ans: The result of the code is 1 (2,3). *pargs stands for variable length arguments. this format is used when we are not \n",
    "sure about the no of arguments to be passed to a function. all the values under this argument will be stored in a tuple."
   ]
  },
  {
   "cell_type": "code",
   "execution_count": 6,
   "id": "79f0a9d7-c411-421f-9206-e2fbd5fecc4b",
   "metadata": {},
   "outputs": [],
   "source": [
    "def func(a,*pargs):\n",
    "    print(a,pargs)\n",
    "    "
   ]
  },
  {
   "cell_type": "code",
   "execution_count": 7,
   "id": "8f083456-5678-47a4-8f3b-081d64cab893",
   "metadata": {},
   "outputs": [
    {
     "name": "stdout",
     "output_type": "stream",
     "text": [
      "1 (2, 3)\n"
     ]
    }
   ],
   "source": [
    "func(1,2,3)"
   ]
  },
  {
   "cell_type": "code",
   "execution_count": null,
   "id": "ddb5cdcf-445a-4cb8-af19-e787e56dd6e7",
   "metadata": {},
   "outputs": [],
   "source": [
    "4. What does this code print, and why?\n",
    ">>> def func(a, **kargs):\n",
    "print(a, kargs)\n",
    ">>> func(a=1, c=3, b=2)\n",
    "Ans: The result of the above code is 1 {'c': 3, 'b': 2}. **args stands for variable length keyword arguments. \n",
    "this format is used when we want pass key value pairs as input to a function. All these key value pairs will be \n",
    "stored in a dictionary"
   ]
  },
  {
   "cell_type": "code",
   "execution_count": 8,
   "id": "af4bf2a3-bf5c-4e7d-bf8d-88af37d1300e",
   "metadata": {},
   "outputs": [],
   "source": [
    "def func(a, **kargs):\n",
    "    print(a,kargs)\n",
    "    "
   ]
  },
  {
   "cell_type": "code",
   "execution_count": 9,
   "id": "a856a011-ac62-47c6-b6b6-253e8a2dfeb2",
   "metadata": {},
   "outputs": [
    {
     "name": "stdout",
     "output_type": "stream",
     "text": [
      "1 {'c': 3, 'b': 2}\n"
     ]
    }
   ],
   "source": [
    "func(a=1,c=3,b=2)"
   ]
  },
  {
   "cell_type": "code",
   "execution_count": null,
   "id": "109d5c46-4f79-4fdd-b436-65e4bfaa5af9",
   "metadata": {},
   "outputs": [],
   "source": [
    "5. What gets printed by this, and explain?\n",
    ">>> def func(a, b, c=8, d=5): print(a, b, c, d)\n",
    ">>> func(1, *(5, 6))\n",
    "Ans: The output of the above is 1 5 6 5. This reason for this function not throwing an error is because, \n",
    "this function expects 4 arguments. the value for a is provided explicitly whereas for arguments b and c, \n",
    "the function will expand the *(5,6) and consider the value of b as 5 and value of c as 6. since the default \n",
    "value of d is provided in function declaration d value will be 5. However it is recommended to use the feature of \n",
    "positional arguments at the end."
   ]
  },
  {
   "cell_type": "code",
   "execution_count": 10,
   "id": "de5d45fb-4f12-47fc-96dc-67b5a4952ca6",
   "metadata": {},
   "outputs": [],
   "source": [
    "def func(a,b,c=8,d=5):\n",
    "    print(a,b,c,d)\n",
    "    "
   ]
  },
  {
   "cell_type": "code",
   "execution_count": 11,
   "id": "19e0eb40-bc73-4a8f-b967-0e87a9dfda35",
   "metadata": {},
   "outputs": [
    {
     "name": "stdout",
     "output_type": "stream",
     "text": [
      "1 5 6 5\n"
     ]
    }
   ],
   "source": [
    "func(1,*(5,6))"
   ]
  },
  {
   "cell_type": "code",
   "execution_count": null,
   "id": "e689bd48-42d8-4f8b-90b3-604f6836c23c",
   "metadata": {},
   "outputs": [],
   "source": [
    "6. what is the result of this, and explain?\n",
    ">>> def func(a, b, c): a = 2; b[0] = 'x'; c['a'] = 'y'\n",
    ">>> l=1; m=[1]; n={'a':0}\n",
    ">>> func(l, m, n)\n",
    ">>> l, m, n\n",
    "Ans: The output of above code is 1, ['x'], {'a': 'y'}.\n",
    "Eventhough Python gives importance to indentation. its provides a facility to declare an entire function in one single line. \n",
    "where statements in a function body are sepereated by ;When l,m,n are provided as inputs to the function. \n",
    "its modifies the values of l,m,n and sets the value of l=2 ,m=['x'] and n={'a':'y'}"
   ]
  },
  {
   "cell_type": "code",
   "execution_count": 13,
   "id": "cee62149-be67-4acd-9370-93dd82b2497d",
   "metadata": {},
   "outputs": [
    {
     "data": {
      "text/plain": [
       "(1, ['x'], {'a': 'y'})"
      ]
     },
     "execution_count": 13,
     "metadata": {},
     "output_type": "execute_result"
    }
   ],
   "source": [
    "def func(a, b, c):a = 2; b[0] = 'x'; c['a'] = 'y'\n",
    "l=1; m=[1]; n={'a':0}\n",
    "func(l, m, n)\n",
    "l, m, n"
   ]
  },
  {
   "cell_type": "code",
   "execution_count": null,
   "id": "ca772eb3-4cfd-4069-a41e-f6d7523426b9",
   "metadata": {},
   "outputs": [],
   "source": []
  }
 ],
 "metadata": {
  "kernelspec": {
   "display_name": "Python 3 (ipykernel)",
   "language": "python",
   "name": "python3"
  },
  "language_info": {
   "codemirror_mode": {
    "name": "ipython",
    "version": 3
   },
   "file_extension": ".py",
   "mimetype": "text/x-python",
   "name": "python",
   "nbconvert_exporter": "python",
   "pygments_lexer": "ipython3",
   "version": "3.10.6"
  }
 },
 "nbformat": 4,
 "nbformat_minor": 5
}
